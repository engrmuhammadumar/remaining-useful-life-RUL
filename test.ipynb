{
 "cells": [
  {
   "cell_type": "code",
   "execution_count": null,
   "metadata": {},
   "outputs": [],
   "source": []
  },
  {
   "cell_type": "code",
   "execution_count": null,
   "metadata": {},
   "outputs": [],
   "source": [
    "import h5py\n",
    "import numpy as np\n",
    "import matplotlib.pyplot as plt\n",
    "\n",
    "# **Step 1: Define File Path**\n",
    "file_path = r\"D:\\Pipeline RUL Data\\Processed\\Sensor_Channel_1.mat\"\n",
    "\n",
    "# **Step 2: Open `.mat` File (HDF5 Format)**\n",
    "with h5py.File(file_path, \"r\") as matfile:\n",
    "    print(\"🔹 Available Keys in the File:\", list(matfile.keys()))  # Check dataset names\n",
    "\n",
    "    # **Step 3: Read Data**\n",
    "    data = np.array(matfile[\"Channel_1\"])  # Read the dataset\n",
    "\n",
    "    # **Step 4: Display Summary**\n",
    "    print(f\"✅ Data Shape: {data.shape}\")\n",
    "    print(f\"✅ Mean: {np.mean(data)}, Std Dev: {np.std(data)}\")\n",
    "    print(f\"✅ Min: {np.min(data)}, Max: {np.max(data)}\")\n",
    "\n",
    "# **Step 5: Plot First 1000 Samples**\n",
    "plt.figure(figsize=(10, 4))\n",
    "plt.plot(data[:1000])\n",
    "plt.title(\"First 1000 Samples - Sensor Channel 1\")\n",
    "plt.xlabel(\"Sample Index\")\n",
    "plt.ylabel(\"Amplitude\")\n",
    "plt.grid()\n",
    "plt.show()\n"
   ]
  },
  {
   "cell_type": "code",
   "execution_count": null,
   "metadata": {},
   "outputs": [],
   "source": [
    "plt.figure(figsize=(10, 4))\n",
    "plt.plot(data[:2000])  # Plot more samples\n",
    "plt.title(\"Zoomed-in View: First 2000 Samples - Sensor Channel 1\")\n",
    "plt.xlabel(\"Sample Index\")\n",
    "plt.ylabel(\"Amplitude\")\n",
    "plt.grid()\n",
    "plt.show()\n"
   ]
  },
  {
   "cell_type": "code",
   "execution_count": null,
   "metadata": {},
   "outputs": [],
   "source": [
    "import numpy as np\n",
    "import h5py\n",
    "import os\n",
    "\n",
    "# **Step 1: Define File Paths**\n",
    "file_path = r\"D:\\Pipeline RUL Data\\Test20190731-104527-983.wfs\"\n",
    "output_folder = r\"D:\\Pipeline RUL Data\\Processed\"  # Save each channel separately\n",
    "\n",
    "header_size = 4096  # Skip metadata\n",
    "num_channels = 8\n",
    "bytes_per_sample = 2\n",
    "\n",
    "# **Step 2: Compute Total Samples**\n",
    "file_size = os.path.getsize(file_path)\n",
    "total_samples = (file_size - header_size) // (num_channels * bytes_per_sample)\n",
    "\n",
    "print(f\"Total Samples (per channel): {total_samples}\")\n",
    "\n",
    "# **Step 3: Read the `.wfs` File Efficiently Using `memmap`**\n",
    "data = np.memmap(file_path, dtype=np.int16, mode='r', offset=header_size)"
   ]
  },
  {
   "cell_type": "code",
   "execution_count": null,
   "metadata": {},
   "outputs": [],
   "source": [
    "from scipy.signal import hilbert\n",
    "\n",
    "analytic_signal = hilbert(data[:150000])\n",
    "envelope = np.abs(analytic_signal)\n",
    "\n",
    "plt.figure(figsize=(10, 4))\n",
    "plt.plot(data[:150000], label=\"Raw AE Signal\", alpha=0.9)\n",
    "plt.plot(envelope, label=\"Envelope\", linewidth=1)\n",
    "#plt.title(\"Envelope of AE Signal (Hilbert Transform)\")\n",
    "plt.xlabel(\"Sample Index\")\n",
    "plt.ylabel(\"Amplitude\")\n",
    "plt.legend()\n",
    "#plt.grid()\n",
    "plt.show()\n"
   ]
  },
  {
   "cell_type": "code",
   "execution_count": null,
   "metadata": {},
   "outputs": [],
   "source": [
    "threshold = 3000  # Set based on observed spikes\n",
    "ae_hits = np.where(data[:150000] > threshold)[0]\n",
    "\n",
    "print(f\"🔹 AE Hits Detected at Samples: {ae_hits}\")\n"
   ]
  },
  {
   "cell_type": "code",
   "execution_count": null,
   "metadata": {},
   "outputs": [],
   "source": [
    "from scipy.signal import spectrogram\n",
    "\n",
    "fs = 1_000_000  # 1 MHz sampling rate\n",
    "f, t, Sxx = spectrogram(data[:150000], fs, nperseg=256)\n",
    "\n",
    "plt.figure(figsize=(10, 4))\n",
    "plt.pcolormesh(t, f, 10 * np.log10(Sxx), shading='gouraud')\n",
    "plt.ylabel(\"Frequency (Hz)\")\n",
    "plt.xlabel(\"Time (s)\")\n",
    "plt.title(\"Spectrogram of AE Signal\")\n",
    "plt.colorbar(label=\"Power (dB)\")\n",
    "plt.show()\n"
   ]
  },
  {
   "cell_type": "code",
   "execution_count": null,
   "metadata": {},
   "outputs": [],
   "source": []
  },
  {
   "cell_type": "code",
   "execution_count": null,
   "metadata": {},
   "outputs": [],
   "source": []
  },
  {
   "cell_type": "code",
   "execution_count": null,
   "metadata": {},
   "outputs": [],
   "source": []
  },
  {
   "cell_type": "code",
   "execution_count": null,
   "metadata": {},
   "outputs": [],
   "source": []
  }
 ],
 "metadata": {
  "kernelspec": {
   "display_name": "Python 3",
   "language": "python",
   "name": "python3"
  },
  "language_info": {
   "codemirror_mode": {
    "name": "ipython",
    "version": 3
   },
   "file_extension": ".py",
   "mimetype": "text/x-python",
   "name": "python",
   "nbconvert_exporter": "python",
   "pygments_lexer": "ipython3",
   "version": "3.12.5"
  }
 },
 "nbformat": 4,
 "nbformat_minor": 2
}

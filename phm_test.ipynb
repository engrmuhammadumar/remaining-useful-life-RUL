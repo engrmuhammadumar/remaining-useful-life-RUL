{
 "cells": [
  {
   "cell_type": "code",
   "execution_count": 2,
   "id": "fd2c6fdb",
   "metadata": {},
   "outputs": [
    {
     "name": "stdout",
     "output_type": "stream",
     "text": [
      "c1 exists: True\n",
      "Top-level files in c1:\n",
      "   c1\n",
      "   c1_wear.csv\n"
     ]
    }
   ],
   "source": [
    "import os, glob, pandas as pd\n",
    "\n",
    "BASE = r\"E:\\Collaboration Work\\With Farooq\\phm dataset\\PHM Challange 2010 Milling\"\n",
    "c1 = os.path.join(BASE, \"c1\")\n",
    "\n",
    "print(\"c1 exists:\", os.path.isdir(c1))\n",
    "print(\"Top-level files in c1:\")\n",
    "for p in sorted(os.listdir(c1))[:30]:\n",
    "    print(\"  \", p)\n"
   ]
  },
  {
   "cell_type": "code",
   "execution_count": 3,
   "id": "cfcbaeef",
   "metadata": {},
   "outputs": [
    {
     "name": "stdout",
     "output_type": "stream",
     "text": [
      "\n",
      "Wear-file candidates:\n",
      "  c1_wear.csv 12749 bytes\n",
      "  c1_wear.csv 12749 bytes\n",
      "\n",
      "Using wear file: E:\\Collaboration Work\\With Farooq\\phm dataset\\PHM Challange 2010 Milling\\c1\\c1_wear.csv\n",
      "\n",
      "Raw wear file shape: (316, 4)\n",
      "First 5 rows (raw):\n",
      "     0            1            2            3\n",
      "0  cut      flute_1      flute_2      flute_3\n",
      "1    1  32.31711361  48.89261732  37.72082548\n",
      "2    2    37.914879  49.57081504  37.72082548\n",
      "3    3  43.08790971  50.30286727  37.72082548\n",
      "4    4   47.8590723  51.08365203  37.84985103\n",
      "\n",
      "Parsed wear table:\n",
      "    Cut_Number  Wear_(0.001mm)\n",
      "1            1       32.317114\n",
      "2            2       37.914879\n",
      "3            3       43.087910\n",
      "4            4       47.859072\n",
      "5            5       52.250329\n",
      "6            6       56.282766\n",
      "7            7       59.976616\n",
      "8            8       63.351288\n",
      "9            9       66.425391\n",
      "10          10       69.216757\n",
      "Total cuts reported in wear file: 315\n"
     ]
    }
   ],
   "source": [
    "import re\n",
    "\n",
    "# try to locate the wear file\n",
    "candidates = []\n",
    "for pat in [\"*wear*.csv\", \"*wear*.txt\", \"*.csv\", \"*.txt\"]:\n",
    "    candidates += glob.glob(os.path.join(c1, pat))\n",
    "\n",
    "# keep only those that look small (wear files are tiny vs. cut CSVs)\n",
    "candidates = [p for p in candidates if os.path.getsize(p) < 2_000_000]  # < ~2MB\n",
    "print(\"\\nWear-file candidates:\")\n",
    "for p in candidates:\n",
    "    print(\" \", os.path.basename(p), os.path.getsize(p), \"bytes\")\n",
    "\n",
    "if not candidates:\n",
    "    raise FileNotFoundError(\"Couldn't find a small wear file in c1. Show me the file listing printed above.\")\n",
    "\n",
    "wear_file = candidates[0]  # pick the first small file\n",
    "print(\"\\nUsing wear file:\", wear_file)\n",
    "\n",
    "# robust read\n",
    "df = pd.read_csv(\n",
    "    wear_file,\n",
    "    sep=None,                # let pandas infer delimiter\n",
    "    engine=\"python\",\n",
    "    header=None,             # wear files often have no header\n",
    "    comment=\"#\"              # ignore commented lines if any\n",
    ")\n",
    "\n",
    "# drop columns that are completely empty\n",
    "df = df.dropna(axis=1, how=\"all\")\n",
    "\n",
    "print(\"\\nRaw wear file shape:\", df.shape)\n",
    "print(\"First 5 rows (raw):\")\n",
    "print(df.head())\n",
    "\n",
    "# Keep only first two columns that look numeric; if strings like \"Cut 1\" appear, extract numbers\n",
    "def to_numeric_series(s):\n",
    "    if s.dtype.kind in \"iufc\":\n",
    "        return s\n",
    "    # try to pull numbers out of strings like \"cut 12\"\n",
    "    return pd.to_numeric(s.astype(str).str.extract(r\"(-?\\d+\\.?\\d*)\", expand=False), errors=\"coerce\")\n",
    "\n",
    "numeric_cols = []\n",
    "for col in df.columns:\n",
    "    col_series = to_numeric_series(df[col])\n",
    "    # numeric if at least half are numbers\n",
    "    if col_series.notna().mean() > 0.5:\n",
    "        numeric_cols.append(col)\n",
    "\n",
    "if len(numeric_cols) < 2:\n",
    "    raise ValueError(\"Couldn't identify two numeric columns in wear file. Show me the head() above.\")\n",
    "\n",
    "df2 = df[numeric_cols[:2]].copy()\n",
    "df2.columns = [\"Cut_Number\", \"Wear_(0.001mm)\"]\n",
    "\n",
    "# final cleaning: integer cuts, float wear\n",
    "df2[\"Cut_Number\"] = pd.to_numeric(df2[\"Cut_Number\"], errors=\"coerce\").astype(\"Int64\")\n",
    "df2[\"Wear_(0.001mm)\"] = pd.to_numeric(df2[\"Wear_(0.001mm)\"], errors=\"coerce\").astype(\"float64\")\n",
    "df2 = df2.dropna()\n",
    "\n",
    "print(\"\\nParsed wear table:\")\n",
    "print(df2.head(10))\n",
    "print(\"Total cuts reported in wear file:\", len(df2))\n"
   ]
  },
  {
   "cell_type": "code",
   "execution_count": 4,
   "id": "80415b31",
   "metadata": {},
   "outputs": [
    {
     "name": "stdout",
     "output_type": "stream",
     "text": [
      "\n",
      "Top 5 largest CSVs in c1 (likely cut files):\n",
      "  c1\\c_1_305.csv | 11710169 bytes\n",
      "  c1\\c_1_309.csv | 11699920 bytes\n",
      "  c1\\c_1_315.csv | 11584594 bytes\n",
      "  c1\\c_1_308.csv | 10638246 bytes\n",
      "  c1\\c_1_304.csv | 10556513 bytes\n",
      "\n",
      "Using cut file: E:\\Collaboration Work\\With Farooq\\phm dataset\\PHM Challange 2010 Milling\\c1\\c1\\c_1_305.csv\n",
      "\n",
      "Cut file shape: (254944, 7)\n",
      "First 5 rows of this cut:\n",
      "   Force_X  Force_Y  Force_Z  Vib_X  Vib_Y  Vib_Z  AE_RMS\n",
      "0   -0.452    1.459   -1.387  0.000 -0.008 -0.013  -0.005\n",
      "1   -0.385    1.481   -1.331  0.051  0.047  0.046  -0.005\n",
      "2   -0.244    1.549   -1.188  0.052  0.041  0.037  -0.004\n",
      "3   -0.161    1.632   -1.106 -0.048 -0.059 -0.068  -0.005\n",
      "4   -0.089    1.684   -1.007  0.086  0.074  0.081  -0.005\n",
      "\n",
      "Basic stats (first cut we loaded):\n",
      "              mean        std      min      max\n",
      "Force_X  16.794388  46.305328  -74.698  123.780\n",
      "Force_Y   7.645602  22.491558 -106.000  106.630\n",
      "Force_Z  10.169025  29.467102  -42.909   76.410\n",
      "Vib_X     0.000089   0.198420   -1.134    1.384\n",
      "Vib_Y    -0.001534   0.185005   -1.116    0.935\n",
      "Vib_Z    -0.001967   0.193925   -1.534    1.188\n",
      "AE_RMS    0.173970   0.070092   -0.005    0.467\n"
     ]
    }
   ],
   "source": [
    "# find a likely cut file (large CSV with many rows)\n",
    "all_csvs = glob.glob(os.path.join(c1, \"**\", \"*.csv\"), recursive=True)\n",
    "\n",
    "# exclude the wear file we just used\n",
    "all_csvs = [p for p in all_csvs if os.path.abspath(p) != os.path.abspath(wear_file)]\n",
    "\n",
    "# sort by size descending to prefer a real signal file\n",
    "all_csvs = sorted(all_csvs, key=os.path.getsize, reverse=True)\n",
    "\n",
    "print(\"\\nTop 5 largest CSVs in c1 (likely cut files):\")\n",
    "for p in all_csvs[:5]:\n",
    "    print(\" \", os.path.relpath(p, c1), \"|\", os.path.getsize(p), \"bytes\")\n",
    "\n",
    "if not all_csvs:\n",
    "    raise FileNotFoundError(\"No cut CSVs found. Show me the directory listing.\")\n",
    "\n",
    "cut_path = all_csvs[0]\n",
    "print(\"\\nUsing cut file:\", cut_path)\n",
    "\n",
    "# read the cut file; drop empty columns; keep first 7 columns\n",
    "cut = pd.read_csv(cut_path, header=None, engine=\"c\", low_memory=False)\n",
    "cut = cut.dropna(axis=1, how=\"all\")\n",
    "\n",
    "# Sometimes there can be extra trailing blank columns; we only need 7 channels\n",
    "if cut.shape[1] < 7:\n",
    "    print(\"WARNING: fewer than 7 columns found. Showing shape:\", cut.shape)\n",
    "else:\n",
    "    cut = cut.iloc[:, :7]\n",
    "\n",
    "cut.columns = [\"Force_X\", \"Force_Y\", \"Force_Z\", \"Vib_X\", \"Vib_Y\", \"Vib_Z\", \"AE_RMS\"]\n",
    "\n",
    "print(\"\\nCut file shape:\", cut.shape)\n",
    "print(\"First 5 rows of this cut:\")\n",
    "print(cut.head())\n",
    "\n",
    "print(\"\\nBasic stats (first cut we loaded):\")\n",
    "print(cut.describe().T[[\"mean\",\"std\",\"min\",\"max\"]])\n"
   ]
  },
  {
   "cell_type": "code",
   "execution_count": 5,
   "id": "6be11703",
   "metadata": {},
   "outputs": [
    {
     "name": "stdout",
     "output_type": "stream",
     "text": [
      "\n",
      "Cut #305 -> Wear = 168.3230015 (0.001 mm units)\n"
     ]
    }
   ],
   "source": [
    "# Try to infer cut number from filename (e.g., '.../123.csv')\n",
    "m = re.search(r\"(\\d+)\\.csv$\", os.path.basename(cut_path))\n",
    "if m:\n",
    "    cut_num = int(m.group(1))\n",
    "    row = df2.loc[df2[\"Cut_Number\"] == cut_num]\n",
    "    if len(row):\n",
    "        print(f\"\\nCut #{cut_num} -> Wear = {float(row['Wear_(0.001mm)'].iloc[0])} (0.001 mm units)\")\n",
    "    else:\n",
    "        print(f\"\\nCut #{cut_num} not found in wear table (could be an off-by-one or different naming).\")\n",
    "else:\n",
    "    print(\"\\nCouldn't parse cut number from file name; we’ll match later using ordering if needed.\")\n"
   ]
  },
  {
   "cell_type": "code",
   "execution_count": 6,
   "id": "b39fb4c1",
   "metadata": {},
   "outputs": [
    {
     "name": "stdout",
     "output_type": "stream",
     "text": [
      "Features for Cut 305 (first 10 shown):\n",
      "Force_X_mean: 16.7944\n",
      "Force_X_std: 46.3052\n",
      "Force_X_rms: 49.2567\n",
      "Force_X_max: 123.7800\n",
      "Force_Y_mean: 7.6456\n",
      "Force_Y_std: 22.4915\n",
      "Force_Y_rms: 23.7555\n",
      "Force_Y_max: 106.6300\n",
      "Force_Z_mean: 10.1690\n",
      "Force_Z_std: 29.4670\n"
     ]
    }
   ],
   "source": [
    "import numpy as np\n",
    "\n",
    "def extract_features(signal_df):\n",
    "    feats = {}\n",
    "    for col in signal_df.columns:\n",
    "        data = signal_df[col].values\n",
    "        feats[f\"{col}_mean\"] = np.mean(data)\n",
    "        feats[f\"{col}_std\"]  = np.std(data)\n",
    "        feats[f\"{col}_rms\"]  = np.sqrt(np.mean(data**2))\n",
    "        feats[f\"{col}_max\"]  = np.max(data)\n",
    "    return feats\n",
    "\n",
    "# Example: extract from cut 305\n",
    "features_305 = extract_features(cut)\n",
    "print(\"Features for Cut 305 (first 10 shown):\")\n",
    "for k, v in list(features_305.items())[:10]:\n",
    "    print(f\"{k}: {v:.4f}\")\n"
   ]
  },
  {
   "cell_type": "code",
   "execution_count": 9,
   "id": "de8e9751",
   "metadata": {},
   "outputs": [
    {
     "name": "stdout",
     "output_type": "stream",
     "text": [
      "Wear rows: 315 Cuts range: 1 to 315\n",
      "Found cut CSVs: 315\n",
      "First 5: ['c_1_001.csv', 'c_1_002.csv', 'c_1_003.csv', 'c_1_004.csv', 'c_1_005.csv']\n",
      "Last 5: ['c_1_311.csv', 'c_1_312.csv', 'c_1_313.csv', 'c_1_314.csv', 'c_1_315.csv']\n"
     ]
    },
    {
     "name": "stderr",
     "output_type": "stream",
     "text": [
      "Extracting features: 100%|██████████| 60/60 [00:13<00:00,  4.49it/s]\n"
     ]
    },
    {
     "name": "stdout",
     "output_type": "stream",
     "text": [
      "\n",
      "Features shape: (60, 30)\n",
      "   Force_X_mean  Force_X_std  Force_X_rms  Force_X_max  Force_Y_mean  \\\n",
      "0      0.400857     0.842468     0.932973        3.744      0.629463   \n",
      "1      1.028151     1.864977     2.129609        8.427      1.118580   \n",
      "2      1.776092     2.672088     3.208514       11.534      2.347886   \n",
      "3      2.104920     2.992555     3.658698       11.788      2.721446   \n",
      "4      2.831384     2.979757     4.110436       12.555      2.351169   \n",
      "\n",
      "   Force_Y_std  Force_Y_rms  Force_Y_max  Force_Z_mean  Force_Z_std  ...  \\\n",
      "0     1.635957     1.752878       10.724      0.705132     1.127486  ...   \n",
      "1     3.149948     3.342663       14.302      1.024095     1.683551  ...   \n",
      "2     4.816019     5.357855       20.826      1.833988     2.689685  ...   \n",
      "3     5.532462     6.165583       24.148      2.024514     3.121334  ...   \n",
      "4     5.747379     6.209699       24.337      1.150255     3.294651  ...   \n",
      "\n",
      "   Vib_Z_mean  Vib_Z_std  Vib_Z_rms  Vib_Z_max  AE_RMS_mean  AE_RMS_std  \\\n",
      "0    0.018200   0.076564   0.078697      0.354    -0.000060    0.002230   \n",
      "1   -0.012855   0.086950   0.087895      0.409     0.038556    0.012941   \n",
      "2   -0.011773   0.098038   0.098742      0.418     0.066571    0.019153   \n",
      "3   -0.005907   0.102088   0.102259      0.409     0.080003    0.022860   \n",
      "4    0.028552   0.087516   0.092056      0.395     0.089196    0.024688   \n",
      "\n",
      "   AE_RMS_rms  AE_RMS_max  Cut_Number       Wear  \n",
      "0    0.002230       0.010           1  32.317114  \n",
      "1    0.040670       0.122           2  37.914879  \n",
      "2    0.069271       0.180           3  43.087910  \n",
      "3    0.083205       0.234           4  47.859072  \n",
      "4    0.092550       0.241           5  52.250329  \n",
      "\n",
      "[5 rows x 30 columns]\n",
      "Cuts with wear label: 60\n",
      "Cuts without wear: 0\n"
     ]
    },
    {
     "data": {
      "image/png": "[encoded data removed]",
      "text/plain": [
       "<Figure size 800x400 with 1 Axes>"
      ]
     },
     "metadata": {},
     "output_type": "display_data"
    }
   ],
   "source": [
    "import os, re, glob, numpy as np, pandas as pd\n",
    "from tqdm import tqdm\n",
    "import matplotlib.pyplot as plt\n",
    "\n",
    "BASE = r\"E:\\Collaboration Work\\With Farooq\\phm dataset\\PHM Challange 2010 Milling\"\n",
    "c1 = os.path.join(BASE, \"c1\")\n",
    "\n",
    "# --- wear we already parsed earlier as df2 with columns [\"Cut_Number\",\"Wear_(0.001mm)\"]\n",
    "# If your kernel restarted, re-read it quickly:\n",
    "wear_file = os.path.join(c1, \"c1_wear.csv\")\n",
    "df = pd.read_csv(wear_file, sep=None, engine=\"python\", header=None).dropna(axis=1, how=\"all\")\n",
    "def to_numeric_series(s):\n",
    "    if s.dtype.kind in \"iufc\": return s\n",
    "    return pd.to_numeric(s.astype(str).str.extract(r\"(-?\\d+\\.?\\d*)\", expand=False), errors=\"coerce\")\n",
    "num_cols = [col for col in df.columns if to_numeric_series(df[col]).notna().mean()>0.5]\n",
    "df2 = df[num_cols[:2]].copy()\n",
    "df2.columns = [\"Cut_Number\",\"Wear_(0.001mm)\"]\n",
    "df2[\"Cut_Number\"] = pd.to_numeric(df2[\"Cut_Number\"], errors=\"coerce\").astype(\"Int64\")\n",
    "df2[\"Wear_(0.001mm)\"] = pd.to_numeric(df2[\"Wear_(0.001mm)\"], errors=\"coerce\").astype(float)\n",
    "df2 = df2.dropna()\n",
    "\n",
    "print(\"Wear rows:\", len(df2), \"Cuts range:\", int(df2[\"Cut_Number\"].min()), \"to\", int(df2[\"Cut_Number\"].max()))\n",
    "\n",
    "# --- 1) Find cut files RECURSIVELY and parse cut number from name\n",
    "all_csvs = glob.glob(os.path.join(c1, \"**\", \"*.csv\"), recursive=True)\n",
    "all_csvs = [p for p in all_csvs if os.path.abspath(p) != os.path.abspath(wear_file)]\n",
    "\n",
    "# patterns to try for extracting the cut number\n",
    "regexes = [\n",
    "    re.compile(r\"c[_-]?1[_-]?(\\d+)\\.csv$\", re.IGNORECASE),  # c_1_305.csv or c1-305.csv\n",
    "    re.compile(r\"c[_-]?(\\d+)\\.csv$\", re.IGNORECASE),        # c_305.csv\n",
    "    re.compile(r\"(\\d+)\\.csv$\", re.IGNORECASE),              # 305.csv\n",
    "]\n",
    "\n",
    "cut_paths = []\n",
    "for p in all_csvs:\n",
    "    base = os.path.basename(p)\n",
    "    cut_num = None\n",
    "    for rgx in regexes:\n",
    "        m = rgx.search(base)\n",
    "        if m:\n",
    "            cut_num = int(m.group(1))\n",
    "            break\n",
    "    if cut_num is not None:\n",
    "        cut_paths.append((cut_num, p))\n",
    "\n",
    "cut_paths = sorted(cut_paths, key=lambda x: x[0])\n",
    "\n",
    "print(\"Found cut CSVs:\", len(cut_paths))\n",
    "print(\"First 5:\", [os.path.basename(p) for _, p in cut_paths[:5]])\n",
    "print(\"Last 5:\", [os.path.basename(p) for _, p in cut_paths[-5:]])\n",
    "\n",
    "# --- 2) Feature extractor\n",
    "def extract_features(signal_df):\n",
    "    feats = {}\n",
    "    for col in signal_df.columns:\n",
    "        x = signal_df[col].to_numpy()\n",
    "        feats[f\"{col}_mean\"] = float(np.mean(x))\n",
    "        feats[f\"{col}_std\"]  = float(np.std(x))\n",
    "        feats[f\"{col}_rms\"]  = float(np.sqrt(np.mean(x**2)))\n",
    "        feats[f\"{col}_max\"]  = float(np.max(x))\n",
    "    return feats\n",
    "\n",
    "# --- 3) Build a small sanity-set first (to be fast)\n",
    "MAX_CUTS = 60   # we’ll expand after we confirm it works\n",
    "picked = cut_paths[:MAX_CUTS]\n",
    "\n",
    "rows = []\n",
    "for cut_num, path in tqdm(picked, desc=\"Extracting features\"):\n",
    "    df_cut = pd.read_csv(path, header=None, engine=\"c\", low_memory=False)\n",
    "    df_cut = df_cut.dropna(axis=1, how=\"all\")\n",
    "    if df_cut.shape[1] < 7:\n",
    "        # skip odd files\n",
    "        continue\n",
    "    df_cut = df_cut.iloc[:, :7]\n",
    "    df_cut.columns = [\"Force_X\",\"Force_Y\",\"Force_Z\",\"Vib_X\",\"Vib_Y\",\"Vib_Z\",\"AE_RMS\"]\n",
    "    feats = extract_features(df_cut)\n",
    "    feats[\"Cut_Number\"] = cut_num\n",
    "    # attach wear if we have it\n",
    "    wr = df2.loc[df2[\"Cut_Number\"] == cut_num]\n",
    "    feats[\"Wear\"] = float(wr[\"Wear_(0.001mm)\"].iloc[0]) if len(wr) else np.nan\n",
    "    rows.append(feats)\n",
    "\n",
    "features_df = pd.DataFrame(rows)\n",
    "print(\"\\nFeatures shape:\", features_df.shape)\n",
    "print(features_df.head())\n",
    "\n",
    "have_wear = features_df[\"Wear\"].notna().sum() if \"Wear\" in features_df.columns else 0\n",
    "no_wear   = len(features_df) - have_wear\n",
    "print(\"Cuts with wear label:\", have_wear)\n",
    "print(\"Cuts without wear:\", no_wear)\n",
    "\n",
    "# --- 4) Quick wear-curve (if we have labels)\n",
    "if have_wear > 2:\n",
    "    valid = features_df.dropna(subset=[\"Wear\"]).sort_values(\"Cut_Number\")\n",
    "    plt.figure(figsize=(8,4))\n",
    "    plt.plot(valid[\"Cut_Number\"], valid[\"Wear\"], marker=\"o\")\n",
    "    plt.xlabel(\"Cut Number\"); plt.ylabel(\"Wear (0.001 mm)\"); plt.title(\"c1 wear progression (subset)\")\n",
    "    plt.grid(True); plt.show()\n",
    "else:\n",
    "    print(\"Not enough labeled cuts yet to plot.\")\n"
   ]
  },
  {
   "cell_type": "code",
   "execution_count": 10,
   "id": "648ae2a2",
   "metadata": {},
   "outputs": [
    {
     "name": "stdout",
     "output_type": "stream",
     "text": [
      "Train size: (48, 28) Test size: (12, 28)\n"
     ]
    }
   ],
   "source": [
    "from sklearn.model_selection import train_test_split\n",
    "from sklearn.ensemble import RandomForestRegressor\n",
    "from sklearn.metrics import mean_squared_error, r2_score\n",
    "import numpy as np\n",
    "\n",
    "# X = features (drop Cut_Number and Wear), y = wear\n",
    "X = features_df.drop(columns=[\"Cut_Number\", \"Wear\"])\n",
    "y = features_df[\"Wear\"]\n",
    "\n",
    "# train/test split\n",
    "X_train, X_test, y_train, y_test = train_test_split(X, y, test_size=0.2, random_state=42)\n",
    "\n",
    "print(\"Train size:\", X_train.shape, \"Test size:\", X_test.shape)\n"
   ]
  },
  {
   "cell_type": "code",
   "execution_count": 11,
   "id": "9f0e9a4f",
   "metadata": {},
   "outputs": [
    {
     "name": "stdout",
     "output_type": "stream",
     "text": [
      "RMSE = 4.87, R² = 0.913\n"
     ]
    }
   ],
   "source": [
    "# train model\n",
    "rf = RandomForestRegressor(n_estimators=100, random_state=42)\n",
    "rf.fit(X_train, y_train)\n",
    "\n",
    "# predictions\n",
    "y_pred = rf.predict(X_test)\n",
    "\n",
    "# evaluate\n",
    "rmse = np.sqrt(mean_squared_error(y_test, y_pred))\n",
    "r2 = r2_score(y_test, y_pred)\n",
    "\n",
    "print(f\"RMSE = {rmse:.2f}, R² = {r2:.3f}\")\n"
   ]
  },
  {
   "cell_type": "code",
   "execution_count": 12,
   "id": "e9ea014d",
   "metadata": {},
   "outputs": [
    {
     "data": {
      "image/png": "[encoded data removed]",
      "text/plain": [
       "<Figure size 600x600 with 1 Axes>"
      ]
     },
     "metadata": {},
     "output_type": "display_data"
    }
   ],
   "source": [
    "import matplotlib.pyplot as plt\n",
    "\n",
    "plt.figure(figsize=(6,6))\n",
    "plt.scatter(y_test, y_pred, alpha=0.7)\n",
    "plt.plot([y.min(), y.max()], [y.min(), y.max()], \"r--\")\n",
    "plt.xlabel(\"True Wear (0.001 mm)\")\n",
    "plt.ylabel(\"Predicted Wear (0.001 mm)\")\n",
    "plt.title(\"Wear Prediction (Random Forest)\")\n",
    "plt.grid(True)\n",
    "plt.show()\n"
   ]
  },
  {
   "cell_type": "code",
   "execution_count": null,
   "id": "87b9e384",
   "metadata": {},
   "outputs": [],
   "source": []
  }
 ],
 "metadata": {
  "kernelspec": {
   "display_name": "Python 3",
   "language": "python",
   "name": "python3"
  },
  "language_info": {
   "codemirror_mode": {
    "name": "ipython",
    "version": 3
   },
   "file_extension": ".py",
   "mimetype": "text/x-python",
   "name": "python",
   "nbconvert_exporter": "python",
   "pygments_lexer": "ipython3",
   "version": "3.13.6"
  }
 },
 "nbformat": 4,
 "nbformat_minor": 5
}
